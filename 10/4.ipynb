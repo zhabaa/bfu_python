{
 "cells": [
  {
   "cell_type": "code",
   "execution_count": 1,
   "id": "7bf2d0de",
   "metadata": {},
   "outputs": [],
   "source": [
    "import numpy as np\n",
    "import matplotlib.pyplot as plt\n",
    "from matplotlib.widgets import Slider\n",
    "from ipywidgets import interact, FloatSlider\n",
    "import ipywidgets as widgets"
   ]
  },
  {
   "cell_type": "code",
   "execution_count": 2,
   "id": "332ddd27",
   "metadata": {},
   "outputs": [
    {
     "data": {
      "text/plain": [
       "<Figure size 1500x1000 with 0 Axes>"
      ]
     },
     "metadata": {},
     "output_type": "display_data"
    }
   ],
   "source": [
    "plt.figure(figsize=(15, 10))\n",
    "\n",
    "grid = plt.GridSpec(3, 2, height_ratios=[1, 1, 1.5])"
   ]
  },
  {
   "cell_type": "code",
   "execution_count": 3,
   "id": "17ee23ab",
   "metadata": {},
   "outputs": [
    {
     "data": {
      "image/png": "[encoded data removed]",
      "text/plain": [
       "<Figure size 640x480 with 1 Axes>"
      ]
     },
     "metadata": {},
     "output_type": "display_data"
    }
   ],
   "source": [
    "ax1 = plt.subplot(grid[0, 0])\n",
    "wave1_line, = ax1.plot([], [], lw=2, color='blue')\n",
    "\n",
    "ax1.set_title('Волна 1: A*sin(wx)')\n",
    "\n",
    "ax1.set_xlim(0, 4*np.pi)\n",
    "ax1.set_ylim(-3, 3)\n",
    "\n",
    "ax1.grid(True)"
   ]
  },
  {
   "cell_type": "code",
   "execution_count": 4,
   "id": "6f850ad6",
   "metadata": {},
   "outputs": [
    {
     "data": {
      "image/png": "[encoded data removed]",
      "text/plain": [
       "<Figure size 640x480 with 1 Axes>"
      ]
     },
     "metadata": {},
     "output_type": "display_data"
    }
   ],
   "source": [
    "ax2 = plt.subplot(grid[1, 0])\n",
    "wave2_line, = ax2.plot([], [], lw=2, color='green')\n",
    "\n",
    "ax2.set_title('Волна 2: A*sin(wx)')\n",
    "\n",
    "ax2.set_xlim(0, 4 * np.pi)\n",
    "ax2.set_ylim(-3, 3)\n",
    "\n",
    "ax2.grid(True)"
   ]
  },
  {
   "cell_type": "code",
   "execution_count": 5,
   "id": "01f36dbf",
   "metadata": {},
   "outputs": [
    {
     "data": {
      "image/png": "[encoded data removed]",
      "text/plain": [
       "<Figure size 640x480 with 1 Axes>"
      ]
     },
     "metadata": {},
     "output_type": "display_data"
    }
   ],
   "source": [
    "ax_result = plt.subplot(grid[:, 1])\n",
    "result_line, = ax_result.plot([], [], lw=2, color='red')\n",
    "\n",
    "ax_result.set_title('Результат сложения волн')\n",
    "\n",
    "ax_result.set_xlim(0, 4*np.pi)\n",
    "ax_result.set_ylim(-4, 4)\n",
    "\n",
    "ax_result.grid(True)"
   ]
  },
  {
   "cell_type": "code",
   "execution_count": 1,
   "id": "4734d008",
   "metadata": {},
   "outputs": [
    {
     "ename": "NameError",
     "evalue": "name 'np' is not defined",
     "output_type": "error",
     "traceback": [
      "\u001b[31m---------------------------------------------------------------------------\u001b[39m",
      "\u001b[31mNameError\u001b[39m                                 Traceback (most recent call last)",
      "\u001b[36mCell\u001b[39m\u001b[36m \u001b[39m\u001b[32mIn[1]\u001b[39m\u001b[32m, line 1\u001b[39m\n\u001b[32m----> \u001b[39m\u001b[32m1\u001b[39m x = \u001b[43mnp\u001b[49m.linspace(\u001b[32m0\u001b[39m, \u001b[32m4\u001b[39m*np.pi, \u001b[32m1000\u001b[39m)\n\u001b[32m      3\u001b[39m params = {\n\u001b[32m      4\u001b[39m     \u001b[33m'\u001b[39m\u001b[33mamp1\u001b[39m\u001b[33m'\u001b[39m: \u001b[32m1.0\u001b[39m,\n\u001b[32m      5\u001b[39m     \u001b[33m'\u001b[39m\u001b[33mfreq1\u001b[39m\u001b[33m'\u001b[39m: \u001b[32m1.0\u001b[39m,\n\u001b[32m      6\u001b[39m     \u001b[33m'\u001b[39m\u001b[33mamp2\u001b[39m\u001b[33m'\u001b[39m: \u001b[32m1.0\u001b[39m,\n\u001b[32m      7\u001b[39m     \u001b[33m'\u001b[39m\u001b[33mfreq2\u001b[39m\u001b[33m'\u001b[39m: \u001b[32m1.0\u001b[39m\n\u001b[32m      8\u001b[39m }\n\u001b[32m     11\u001b[39m \u001b[38;5;28;01mdef\u001b[39;00m\u001b[38;5;250m \u001b[39m\u001b[34mupdate_waves\u001b[39m(amp1, freq1, amp2, freq2):\n",
      "\u001b[31mNameError\u001b[39m: name 'np' is not defined"
     ]
    }
   ],
   "source": [
    "x = np.linspace(0, 4*np.pi, 1000)\n",
    "\n",
    "params = {\n",
    "    'amp1': 1.0,\n",
    "    'freq1': 1.0,\n",
    "    'amp2': 1.0,\n",
    "    'freq2': 1.0\n",
    "}\n",
    "\n",
    "\n",
    "def update_waves(amp1, freq1, amp2, freq2):\n",
    "    params.update({\n",
    "        'amp1': amp1,\n",
    "        'freq1': freq1,\n",
    "        'amp2': amp2,\n",
    "        'freq2': freq2\n",
    "    })\n",
    "    \n",
    "    y1 = params['amp1'] * np.sin(params['freq1'] * x)\n",
    "    y2 = params['amp2'] * np.sin(params['freq2'] * x)\n",
    "    y_result = y1 + y2\n",
    "    \n",
    "\n",
    "    wave1_line.set_data(x, y1)\n",
    "    wave2_line.set_data(x, y2)\n",
    "    result_line.set_data(x, y_result)\n",
    "    \n",
    "    ax1.set_ylim(-params['amp1']*1.2, params['amp1']*1.2)\n",
    "    ax2.set_ylim(-params['amp2']*1.2, params['amp2']*1.2)\n",
    "    ax_result.set_ylim(-(params['amp1']+params['amp2'])*1.2, \n",
    "                       (params['amp1']+params['amp2'])*1.2)\n",
    "    \n",
    "    plt.draw()\n",
    "\n",
    "\n",
    "@interact(\n",
    "    amp1=FloatSlider(value=1.0, min=0.1, max=2.0, step=0.1, description='Амплитуда 1:'),\n",
    "    freq1=FloatSlider(value=1.0, min=0.1, max=3.0, step=0.1, description='Частота 1:'),\n",
    "    amp2=FloatSlider(value=1.0, min=0.1, max=2.0, step=0.1, description='Амплитуда 2:'),\n",
    "    freq2=FloatSlider(value=1.0, min=0.1, max=3.0, step=0.1, description='Частота 2:')\n",
    ")\n",
    "def update(amp1, freq1, amp2, freq2):\n",
    "    update_waves(amp1, freq1, amp2, freq2)\n",
    "\n",
    "\n",
    "update_waves(params['amp1'], params['freq1'], params['amp2'], params['freq2'])\n",
    "plt.tight_layout()\n",
    "plt.show()"
   ]
  }
 ],
 "metadata": {
  "kernelspec": {
   "display_name": ".venv",
   "language": "python",
   "name": "python3"
  },
  "language_info": {
   "codemirror_mode": {
    "name": "ipython",
    "version": 3
   },
   "file_extension": ".py",
   "mimetype": "text/x-python",
   "name": "python",
   "nbconvert_exporter": "python",
   "pygments_lexer": "ipython3",
   "version": "3.13.1"
  }
 },
 "nbformat": 4,
 "nbformat_minor": 5
}
